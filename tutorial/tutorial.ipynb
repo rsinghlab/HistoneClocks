{
 "cells": [
  {
   "cell_type": "markdown",
   "id": "9f1877de-971a-439c-859b-194134884518",
   "metadata": {},
   "source": [
    "## Tutorial to use histone mark age predictors"
   ]
  },
  {
   "cell_type": "code",
   "execution_count": 3,
   "id": "5b01591d-cd4e-409d-8033-ccf4d071c767",
   "metadata": {
    "tags": []
   },
   "outputs": [],
   "source": [
    "# Load required packages\n",
    "import pandas as pd\n",
    "import joblib\n",
    "import anndata\n",
    "import pyBigWig as pbw\n",
    "import numpy as np\n",
    "from tqdm.notebook import tqdm\n",
    "from sklearn.decomposition import TruncatedSVD\n",
    "from sklearn.linear_model import ARDRegression, ElasticNet"
   ]
  },
  {
   "cell_type": "code",
   "execution_count": 4,
   "id": "051154cd-103d-445b-af66-321b5fac1661",
   "metadata": {
    "tags": []
   },
   "outputs": [],
   "source": [
    "# Download an example from the ENCODE project (keep in mind this is a training sample used in the models)\n",
    "!wget https://www.encodeproject.org/files/ENCFF386QWG/@@download/ENCFF386QWG.bigWig --quiet"
   ]
  },
  {
   "cell_type": "code",
   "execution_count": 7,
   "id": "6d13beeb-f2ae-48ba-860d-f7fb7571ed09",
   "metadata": {
    "tags": []
   },
   "outputs": [],
   "source": [
    "def process_bigWig(bigWig_file_path, annotation_file_path='../metadata/Ensembl-105-EnsDb-for-Homo-sapiens-genes.csv'):\n",
    "    \"\"\"\n",
    "    Process the given bigWig file to extract genomic annotations and transform signal values.\n",
    "\n",
    "    Parameters:\n",
    "        bigWig_file_path (str): Path to the bigWig file containing signal values.\n",
    "        annotation_file_path (str): Path to the CSV file containing genomic annotations. Default value points to a specific dataset.\n",
    "\n",
    "    Returns:\n",
    "        pandas.DataFrame: A DataFrame containing transformed signal values for each gene.\n",
    "    \"\"\"\n",
    "    # Get genomic annotation\n",
    "    chromosomes = ['1', '10', '11', '12', '13', '14', '15', '16', '17', '18', '19', '2', '20', '21', '22', '3', '4', '5', '6', '7', '8', '9', 'X']\n",
    "    genes = pd.read_csv(annotation_file_path)\n",
    "    genes = genes[genes['chr'].apply(lambda x: x in chromosomes)]\n",
    "    genes.index = genes.gene_id\n",
    "\n",
    "    # Read bigWig p-value file (in the ENCODE project, bigWig p-values are already log-transformed)\n",
    "    bw = pbw.open(bigWig_file_path)\n",
    "\n",
    "    # Transform into a table of transformed signal values for each gene\n",
    "    signal_sample = np.empty(shape=(0, 0), dtype=float)\n",
    "    print('Processing file...')\n",
    "    for i in tqdm(range(genes.shape[0])):\n",
    "        try: \n",
    "            signal = bw.stats('chr' + genes['chr'].iloc[i], genes['start'].iloc[i] - 1, genes['end'].iloc[i], type='mean', exact=True)[0]\n",
    "        except:\n",
    "            signal = None\n",
    "        if signal is not None:\n",
    "            signal_transformed = np.arcsinh(signal)\n",
    "        else:\n",
    "            signal_transformed = 0\n",
    "        signal_sample = np.append(signal_sample, signal_transformed)\n",
    "    print('Done!')\n",
    "\n",
    "    sample = pd.DataFrame(signal_sample[None, :], columns=genes.gene_id.tolist())\n",
    "\n",
    "    return sample\n",
    "\n",
    "\n",
    "def predict_histone_mark_age(processed_sample, histone):\n",
    "    \"\"\"\n",
    "    Predict age based on the processed sample using a trained model for a given histone type.\n",
    "\n",
    "    Parameters:\n",
    "        processed_sample (pandas.DataFrame): Processed sample containing transformed signal values for genes.\n",
    "        histone (str): Histone type for which the age prediction model is trained.\n",
    "\n",
    "    Returns:\n",
    "        numpy.ndarray: Predicted age for the given processed sample.\n",
    "    \"\"\"\n",
    "    feature_selector_path = '../results/models/' + histone + '_feature_selector.pkl'\n",
    "    feature_selector = joblib.load(feature_selector_path)\n",
    "\n",
    "    dim_reduction_path = '../results/models/' + histone + '_dim_reduction.pkl'\n",
    "    dim_reduction = joblib.load(dim_reduction_path)\n",
    "\n",
    "    model_path = '../results/models/' + histone + '_model.pkl'\n",
    "    model = joblib.load(model_path)\n",
    "\n",
    "    selected_features = processed_sample.loc[:, np.abs(feature_selector.coef_) > 0]\n",
    "    processed_sample_reduced = dim_reduction.transform(selected_features)\n",
    "    y_hat = model.predict(processed_sample_reduced)\n",
    "\n",
    "    return y_hat"
   ]
  },
  {
   "cell_type": "code",
   "execution_count": 11,
   "id": "dfa4e198-5394-43eb-a17c-83a96dd2d3fa",
   "metadata": {
    "tags": []
   },
   "outputs": [
    {
     "name": "stdout",
     "output_type": "stream",
     "text": [
      "Processing file...\n"
     ]
    },
    {
     "data": {
      "application/vnd.jupyter.widget-view+json": {
       "model_id": "8c184b75e87341d2bdc09cb6486ae29c",
       "version_major": 2,
       "version_minor": 0
      },
      "text/plain": [
       "  0%|          | 0/62241 [00:00<?, ?it/s]"
      ]
     },
     "metadata": {},
     "output_type": "display_data"
    },
    {
     "name": "stdout",
     "output_type": "stream",
     "text": [
      "Done!\n",
      "The predicted H3K4me3 age is 53.999 years.\n"
     ]
    },
    {
     "name": "stderr",
     "output_type": "stream",
     "text": [
      "/home/ec2-user/anaconda3/envs/python3/lib/python3.10/site-packages/sklearn/base.py:318: UserWarning: Trying to unpickle estimator ElasticNet from version 1.0.1 when using version 1.2.2. This might lead to breaking code or invalid results. Use at your own risk. For more info please refer to:\n",
      "https://scikit-learn.org/stable/model_persistence.html#security-maintainability-limitations\n",
      "  warnings.warn(\n",
      "/home/ec2-user/anaconda3/envs/python3/lib/python3.10/site-packages/sklearn/base.py:318: UserWarning: Trying to unpickle estimator TruncatedSVD from version 1.0.1 when using version 1.2.2. This might lead to breaking code or invalid results. Use at your own risk. For more info please refer to:\n",
      "https://scikit-learn.org/stable/model_persistence.html#security-maintainability-limitations\n",
      "  warnings.warn(\n",
      "/home/ec2-user/anaconda3/envs/python3/lib/python3.10/site-packages/sklearn/base.py:318: UserWarning: Trying to unpickle estimator ARDRegression from version 1.0.1 when using version 1.2.2. This might lead to breaking code or invalid results. Use at your own risk. For more info please refer to:\n",
      "https://scikit-learn.org/stable/model_persistence.html#security-maintainability-limitations\n",
      "  warnings.warn(\n",
      "/home/ec2-user/anaconda3/envs/python3/lib/python3.10/site-packages/sklearn/base.py:432: UserWarning: X has feature names, but TruncatedSVD was fitted without feature names\n",
      "  warnings.warn(\n"
     ]
    }
   ],
   "source": [
    "#use your sample path\n",
    "sample = process_bigWig('ENCFF386QWG.bigWig')\n",
    "#choose histone mark from H3K4me3, H3K9me3, H3K27me3, H3K36me3, H3K4me1, H3K9ac, H3K27ac, and pan_histone\n",
    "histone_mark = 'H3K4me3'\n",
    "#choose from the available histone marks\n",
    "y_hat = predict_histone_mark_age(sample, histone=histone_mark)[0]"
   ]
  },
  {
   "cell_type": "code",
   "execution_count": 12,
   "id": "3030a57c-2208-4120-aa94-c31f2bce73fc",
   "metadata": {
    "tags": []
   },
   "outputs": [
    {
     "name": "stdout",
     "output_type": "stream",
     "text": [
      "The predicted H3K4me3 age is 53.999 years.\n"
     ]
    }
   ],
   "source": [
    "print(f'The predicted {histone_mark} age is {round(y_hat,3)} years.')"
   ]
  },
  {
   "cell_type": "code",
   "execution_count": null,
   "id": "59b881da-90ae-4d81-a664-5a521338d081",
   "metadata": {},
   "outputs": [],
   "source": []
  }
 ],
 "metadata": {
  "kernelspec": {
   "display_name": "conda_python3",
   "language": "python",
   "name": "conda_python3"
  },
  "language_info": {
   "codemirror_mode": {
    "name": "ipython",
    "version": 3
   },
   "file_extension": ".py",
   "mimetype": "text/x-python",
   "name": "python",
   "nbconvert_exporter": "python",
   "pygments_lexer": "ipython3",
   "version": "3.10.10"
  }
 },
 "nbformat": 4,
 "nbformat_minor": 5
}
